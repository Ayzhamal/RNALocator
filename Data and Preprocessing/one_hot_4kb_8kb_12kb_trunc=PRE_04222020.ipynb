{
 "cells": [
  {
   "cell_type": "code",
   "execution_count": 25,
   "metadata": {},
   "outputs": [
    {
     "name": "stdout",
     "output_type": "stream",
     "text": [
      "tsv file size is:  (63677, 6)\n",
      "35744 rows have ZERO sum localization values: \n",
      "27933 rows have NON-zero local sum values \n",
      "usable data from tsv file has shape  (27933, 5)\n"
     ]
    },
    {
     "data": {
      "text/html": [
       "<div>\n",
       "<style scoped>\n",
       "    .dataframe tbody tr th:only-of-type {\n",
       "        vertical-align: middle;\n",
       "    }\n",
       "\n",
       "    .dataframe tbody tr th {\n",
       "        vertical-align: top;\n",
       "    }\n",
       "\n",
       "    .dataframe thead th {\n",
       "        text-align: right;\n",
       "    }\n",
       "</style>\n",
       "<table border=\"1\" class=\"dataframe\">\n",
       "  <thead>\n",
       "    <tr style=\"text-align: right;\">\n",
       "      <th></th>\n",
       "      <th>gene_id</th>\n",
       "      <th>cyto_loc</th>\n",
       "      <th>insol_loc</th>\n",
       "      <th>membr_loc</th>\n",
       "      <th>nucl_loc</th>\n",
       "    </tr>\n",
       "  </thead>\n",
       "  <tbody>\n",
       "    <tr>\n",
       "      <td>0</td>\n",
       "      <td>ENSG00000000003</td>\n",
       "      <td>0.404002</td>\n",
       "      <td>0.163435</td>\n",
       "      <td>0.239304</td>\n",
       "      <td>0.193258</td>\n",
       "    </tr>\n",
       "    <tr>\n",
       "      <td>2</td>\n",
       "      <td>ENSG00000000419</td>\n",
       "      <td>0.187355</td>\n",
       "      <td>0.450069</td>\n",
       "      <td>0.130292</td>\n",
       "      <td>0.232284</td>\n",
       "    </tr>\n",
       "    <tr>\n",
       "      <td>3</td>\n",
       "      <td>ENSG00000000457</td>\n",
       "      <td>0.128840</td>\n",
       "      <td>0.332606</td>\n",
       "      <td>0.166058</td>\n",
       "      <td>0.372495</td>\n",
       "    </tr>\n",
       "    <tr>\n",
       "      <td>4</td>\n",
       "      <td>ENSG00000000460</td>\n",
       "      <td>0.154924</td>\n",
       "      <td>0.300883</td>\n",
       "      <td>0.201207</td>\n",
       "      <td>0.342986</td>\n",
       "    </tr>\n",
       "    <tr>\n",
       "      <td>5</td>\n",
       "      <td>ENSG00000000938</td>\n",
       "      <td>0.000000</td>\n",
       "      <td>0.000000</td>\n",
       "      <td>0.000000</td>\n",
       "      <td>1.000000</td>\n",
       "    </tr>\n",
       "  </tbody>\n",
       "</table>\n",
       "</div>"
      ],
      "text/plain": [
       "           gene_id  cyto_loc  insol_loc  membr_loc  nucl_loc\n",
       "0  ENSG00000000003  0.404002   0.163435   0.239304  0.193258\n",
       "2  ENSG00000000419  0.187355   0.450069   0.130292  0.232284\n",
       "3  ENSG00000000457  0.128840   0.332606   0.166058  0.372495\n",
       "4  ENSG00000000460  0.154924   0.300883   0.201207  0.342986\n",
       "5  ENSG00000000938  0.000000   0.000000   0.000000  1.000000"
      ]
     },
     "execution_count": 25,
     "metadata": {},
     "output_type": "execute_result"
    }
   ],
   "source": [
    "# pre-process the label data\n",
    "import pandas as pd\n",
    "df=pd.read_csv(\"/Users/az/OneDrive - University of Houston Downtown/CS 4395 Senior Project/RNATracker-master/Data/cefra-seq/Supplemental_File_3.tsv\", delimiter='\\t')\n",
    "\n",
    "# rename the column name\n",
    "df.rename(columns={'ensembl_gene_id':'gene_id'}, inplace=True)\n",
    "\n",
    "# slice needed columns\n",
    "df=df.loc[:,['gene_id', 'cyto_A', 'cyto_B', 'insol_A', 'insol_B', 'membr_A', 'membr_B', 'nucl_A', 'nucl_B']]\n",
    "\n",
    "# mutate a new avg column \n",
    "df['avg_cyto']=(df.cyto_A+df.cyto_B)/2\n",
    "df['avg_insol']=(df.insol_A+df.insol_B)/2\n",
    "df['avg_membr']=(df.membr_A+df.membr_B)/2\n",
    "df['avg_nucl']=(df.nucl_A+df.nucl_B)/2\n",
    "\n",
    "# mutate a new column with sum values\n",
    "df['sum']=df.avg_cyto+df.avg_insol+df.avg_membr+df.avg_nucl\n",
    "\n",
    "# mutate a new percent localization value column for each compartment\n",
    "df['cyto_loc']=df.avg_cyto/df['sum']\n",
    "df['insol_loc']=df.avg_insol/df['sum']\n",
    "df['membr_loc']=df.avg_membr/df['sum']\n",
    "df['nucl_loc']=df.avg_nucl/df['sum']\n",
    "\n",
    "# select only necessary columns into df\n",
    "df=df.loc[:,['gene_id', 'sum','cyto_loc', 'insol_loc', 'membr_loc', 'nucl_loc']]\n",
    "print(\"tsv file size is: \", df.shape)\n",
    "\n",
    "# compute the number or rows with zero localization values in all four compartments \n",
    "null_df=df[df['sum']==0]\n",
    "print(\"{} rows have ZERO sum localization values: \".format(null_df.shape[0]))\n",
    "print(\"{} rows have NON-zero local sum values \".format(df.shape[0]-null_df.shape[0]))\n",
    "\n",
    "# filter out rows with non-zero local sum values\n",
    "df=df[df['sum']!=0]\n",
    "\n",
    "# drop 'sum' column\n",
    "df=df.loc[:, df.columns != 'sum']\n",
    "print(\"usable data from tsv file has shape \", df.shape) \n",
    "df.head()"
   ]
  },
  {
   "cell_type": "code",
   "execution_count": 26,
   "metadata": {},
   "outputs": [
    {
     "name": "stdout",
     "output_type": "stream",
     "text": [
      "the longest sequence has 34526 characters\n",
      "the shortest sequence has 207 characters\n",
      "\n",
      "75th percentile is  5060.0\n",
      "50th percentile is  3303.0\n",
      "mean - average length:  3967.9226237580233\n",
      "90th percentile is  7337.600000000002\n",
      "98th percentile is  11552.799999999997\n",
      "\n",
      "df_fasta is: \n",
      "                gene_id                                                seq\n",
      "0      ENSG00000000003  (G, G, C, A, C, C, A, G, G, G, G, C, C, A, G, ...\n",
      "1      ENSG00000000419  (A, T, T, C, C, G, C, T, T, C, C, G, G, C, A, ...\n",
      "2      ENSG00000000457  (T, T, T, C, C, G, G, A, C, C, C, G, T, C, T, ...\n",
      "3      ENSG00000000460  (G, G, C, T, T, T, G, G, C, C, C, T, G, G, A, ...\n",
      "4      ENSG00000001036  (C, A, G, C, G, C, T, C, C, C, G, A, G, G, C, ...\n",
      "...                ...                                                ...\n",
      "11368  ENSG00000271303  (C, G, G, C, A, C, C, T, G, G, C, G, A, G, C, ...\n",
      "11369  ENSG00000272047  (A, C, T, C, T, G, C, C, G, G, C, A, A, C, G, ...\n",
      "11370  ENSG00000272325  (G, C, C, T, T, A, C, G, C, C, G, C, T, G, A, ...\n",
      "11371  ENSG00000273045  (G, A, G, C, G, A, C, G, C, G, T, A, C, G, T, ...\n",
      "11372  ENSG00000273047  (C, C, T, T, C, C, C, A, C, A, C, C, A, G, G, ...\n",
      "\n",
      "[11373 rows x 2 columns]\n"
     ]
    }
   ],
   "source": [
    "# prepare the sequence data from the fasta file from cefra-seq dataset with BioPython library\n",
    "import numpy as np\n",
    "from Bio import SeqIO\n",
    "\n",
    "fasta=[]\n",
    "for record in SeqIO.parse('/Users/az/OneDrive - University of Houston Downtown/CS 4395 Senior Project/RNATracker-master/Data/cefra-seq/cefra_seq_cDNA_screened.fa', \"fasta\"):\n",
    "    fasta.append({'gene_id': record.id, 'seq':record.seq})    \n",
    "\n",
    "# convert a list of dictionaries into a dataframe\n",
    "df_fasta=pd.DataFrame(fasta)\n",
    "\n",
    "s=pd.Series(df_fasta['seq'])\n",
    "# get the length of the longest sequence - 34526\n",
    "print(\"the longest sequence has {} characters\".format(max(s.str.len())))\n",
    "# get the length of the shortest sequence - 207\n",
    "print(\"the shortest sequence has {} characters\".format(min(s.str.len())))\n",
    "\n",
    "# create a list with length values of sequences\n",
    "len_list=list(s.str.len())\n",
    "# find the 75th percentile \n",
    "a = np.array(len_list)\n",
    "p = np.percentile(a, 75) # return 75th percentile - 5060\n",
    "print(\"\\n75th percentile is \", p) \n",
    "p2 = np.percentile(a, 50) # return 50th percentile - 3303\n",
    "print(\"50th percentile is \", p2) \n",
    "print(\"mean - average length: \", np.mean(a))\n",
    "p3 = np.percentile(a, 90) # return 90th percentile - 7337.6\n",
    "print(\"90th percentile is \", p3) \n",
    "p4 = np.percentile(a, 98) # return 98th percentile - 11552.79\n",
    "print(\"98th percentile is \", p4) \n",
    "print(\"\\ndf_fasta is: \\n\", df_fasta)"
   ]
  },
  {
   "cell_type": "code",
   "execution_count": 27,
   "metadata": {},
   "outputs": [
    {
     "name": "stdout",
     "output_type": "stream",
     "text": [
      "merged dataframe tsv with fasta has shape:  (11373, 6)\n",
      "the number of unique gene id-s:  11373\n"
     ]
    }
   ],
   "source": [
    "# now merge 2 pandas dataframes: sequence dataframe and label dataframe \n",
    "df_merged = pd.merge(df, df_fasta, on='gene_id', how='inner')\n",
    "print(\"merged dataframe tsv with fasta has shape: \", df_merged.shape)\n",
    "# move the order of columns\n",
    "data=df_merged[['gene_id', 'seq', 'cyto_loc', 'insol_loc', 'membr_loc', 'nucl_loc']]\n",
    "\n",
    "# save a full_seq data into .csv file \n",
    "# df_merged.to_csv('full_seq_and_loc.csv', index=False)\n",
    "\n",
    "#check how many unique genes we have in a merged dataframe\n",
    "mrna=list(data['gene_id'])\n",
    "print(\"the number of unique gene id-s: \", len(set(mrna)))"
   ]
  },
  {
   "cell_type": "code",
   "execution_count": 28,
   "metadata": {},
   "outputs": [
    {
     "name": "stderr",
     "output_type": "stream",
     "text": [
      "/Users/az/anaconda3/lib/python3.6/site-packages/ipykernel_launcher.py:3: SettingWithCopyWarning: \n",
      "A value is trying to be set on a copy of a slice from a DataFrame.\n",
      "Try using .loc[row_indexer,col_indexer] = value instead\n",
      "\n",
      "See the caveats in the documentation: http://pandas.pydata.org/pandas-docs/stable/user_guide/indexing.html#returning-a-view-versus-a-copy\n",
      "  This is separate from the ipykernel package so we can avoid doing imports until\n",
      "/Users/az/anaconda3/lib/python3.6/site-packages/ipykernel_launcher.py:4: SettingWithCopyWarning: \n",
      "A value is trying to be set on a copy of a slice from a DataFrame\n",
      "\n",
      "See the caveats in the documentation: http://pandas.pydata.org/pandas-docs/stable/user_guide/indexing.html#returning-a-view-versus-a-copy\n",
      "  after removing the cwd from sys.path.\n"
     ]
    },
    {
     "data": {
      "text/html": [
       "<div>\n",
       "<style scoped>\n",
       "    .dataframe tbody tr th:only-of-type {\n",
       "        vertical-align: middle;\n",
       "    }\n",
       "\n",
       "    .dataframe tbody tr th {\n",
       "        vertical-align: top;\n",
       "    }\n",
       "\n",
       "    .dataframe thead th {\n",
       "        text-align: right;\n",
       "    }\n",
       "</style>\n",
       "<table border=\"1\" class=\"dataframe\">\n",
       "  <thead>\n",
       "    <tr style=\"text-align: right;\">\n",
       "      <th></th>\n",
       "      <th>gene_id</th>\n",
       "      <th>seq</th>\n",
       "      <th>cyto_loc</th>\n",
       "      <th>insol_loc</th>\n",
       "      <th>membr_loc</th>\n",
       "      <th>nucl_loc</th>\n",
       "    </tr>\n",
       "  </thead>\n",
       "  <tbody>\n",
       "    <tr>\n",
       "      <td>0</td>\n",
       "      <td>ENSG00000000003</td>\n",
       "      <td>(G, G, C, A, C, C, A, G, G, G, G, C, C, A, G, ...</td>\n",
       "      <td>0.404002</td>\n",
       "      <td>0.163435</td>\n",
       "      <td>0.239304</td>\n",
       "      <td>0.193258</td>\n",
       "    </tr>\n",
       "    <tr>\n",
       "      <td>1</td>\n",
       "      <td>ENSG00000000419</td>\n",
       "      <td>(A, T, T, C, C, G, C, T, T, C, C, G, G, C, A, ...</td>\n",
       "      <td>0.187355</td>\n",
       "      <td>0.450069</td>\n",
       "      <td>0.130292</td>\n",
       "      <td>0.232284</td>\n",
       "    </tr>\n",
       "    <tr>\n",
       "      <td>2</td>\n",
       "      <td>ENSG00000000457</td>\n",
       "      <td>(T, T, T, C, C, G, G, A, C, C, C, G, T, C, T, ...</td>\n",
       "      <td>0.128840</td>\n",
       "      <td>0.332606</td>\n",
       "      <td>0.166058</td>\n",
       "      <td>0.372495</td>\n",
       "    </tr>\n",
       "    <tr>\n",
       "      <td>3</td>\n",
       "      <td>ENSG00000000460</td>\n",
       "      <td>(G, G, C, T, T, T, G, G, C, C, C, T, G, G, A, ...</td>\n",
       "      <td>0.154924</td>\n",
       "      <td>0.300883</td>\n",
       "      <td>0.201207</td>\n",
       "      <td>0.342986</td>\n",
       "    </tr>\n",
       "    <tr>\n",
       "      <td>4</td>\n",
       "      <td>ENSG00000001036</td>\n",
       "      <td>(C, A, G, C, G, C, T, C, C, C, G, A, G, G, C, ...</td>\n",
       "      <td>0.333751</td>\n",
       "      <td>0.156757</td>\n",
       "      <td>0.200905</td>\n",
       "      <td>0.308587</td>\n",
       "    </tr>\n",
       "  </tbody>\n",
       "</table>\n",
       "</div>"
      ],
      "text/plain": [
       "           gene_id                                                seq  \\\n",
       "0  ENSG00000000003  (G, G, C, A, C, C, A, G, G, G, G, C, C, A, G, ...   \n",
       "1  ENSG00000000419  (A, T, T, C, C, G, C, T, T, C, C, G, G, C, A, ...   \n",
       "2  ENSG00000000457  (T, T, T, C, C, G, G, A, C, C, C, G, T, C, T, ...   \n",
       "3  ENSG00000000460  (G, G, C, T, T, T, G, G, C, C, C, T, G, G, A, ...   \n",
       "4  ENSG00000001036  (C, A, G, C, G, C, T, C, C, C, G, A, G, G, C, ...   \n",
       "\n",
       "   cyto_loc  insol_loc  membr_loc  nucl_loc  \n",
       "0  0.404002   0.163435   0.239304  0.193258  \n",
       "1  0.187355   0.450069   0.130292  0.232284  \n",
       "2  0.128840   0.332606   0.166058  0.372495  \n",
       "3  0.154924   0.300883   0.201207  0.342986  \n",
       "4  0.333751   0.156757   0.200905  0.308587  "
      ]
     },
     "execution_count": 28,
     "metadata": {},
     "output_type": "execute_result"
    }
   ],
   "source": [
    "# sort gene_id-s by the int number in gene_id\n",
    "# create a new column with extracted integer numbers out of gene_id\n",
    "data['sort'] = data['gene_id'].str.extract('(\\d+)', expand=False).astype(int)\n",
    "data.sort_values('sort',inplace=True, ascending=True)\n",
    "# drop the \"sort\" column\n",
    "data = data.drop('sort', axis=1)\n",
    "data.head()"
   ]
  },
  {
   "cell_type": "code",
   "execution_count": 29,
   "metadata": {},
   "outputs": [
    {
     "name": "stderr",
     "output_type": "stream",
     "text": [
      "/Users/az/anaconda3/lib/python3.6/site-packages/ipykernel_launcher.py:7: SettingWithCopyWarning: \n",
      "A value is trying to be set on a copy of a slice from a DataFrame\n",
      "\n",
      "See the caveats in the documentation: http://pandas.pydata.org/pandas-docs/stable/user_guide/indexing.html#returning-a-view-versus-a-copy\n",
      "  import sys\n"
     ]
    },
    {
     "name": "stdout",
     "output_type": "stream",
     "text": [
      "4000\n"
     ]
    }
   ],
   "source": [
    "#prepare 8kb dataset: truncating='pre', padding='pre'\n",
    "\n",
    "maxlen=4000\n",
    "# truncating='pre' sequences longer than maxlen, keep only last maxlen characters, truncate at the beginning\n",
    "for i in range(len(data.seq)):\n",
    "    if len(data.seq[i])>maxlen:\n",
    "        data.seq[i]=data.seq[i][-maxlen:]\n",
    "\n",
    "# check the length of the previously longest sequence        \n",
    "print(len(data.seq[8963]))    "
   ]
  },
  {
   "cell_type": "code",
   "execution_count": 30,
   "metadata": {},
   "outputs": [
    {
     "name": "stdout",
     "output_type": "stream",
     "text": [
      "last 10 characters os the first sequence:  AATACAAGGT\n",
      "one-hot encoded version of first 10 characters\n",
      " [[0. 0. 0. 0.]\n",
      " [0. 0. 0. 0.]\n",
      " [0. 0. 0. 0.]\n",
      " [0. 0. 0. 0.]\n",
      " [0. 0. 0. 0.]\n",
      " [0. 0. 0. 0.]\n",
      " [0. 0. 0. 0.]\n",
      " [0. 0. 0. 0.]\n",
      " [0. 0. 0. 0.]\n",
      " [0. 0. 0. 0.]]\n",
      "one-hot encoded version of last 10 characters\n",
      " [[1. 0. 0. 0.]\n",
      " [1. 0. 0. 0.]\n",
      " [0. 0. 0. 1.]\n",
      " [1. 0. 0. 0.]\n",
      " [0. 1. 0. 0.]\n",
      " [1. 0. 0. 0.]\n",
      " [1. 0. 0. 0.]\n",
      " [0. 0. 1. 0.]\n",
      " [0. 0. 1. 0.]\n",
      " [0. 0. 0. 1.]]\n",
      "training data array shape:  (11373, 4000, 4)\n"
     ]
    }
   ],
   "source": [
    "# One-Hot encoding and padding='pre'\n",
    "from numpy import array\n",
    "from sklearn.preprocessing import LabelEncoder\n",
    "from keras.utils import to_categorical\n",
    "\n",
    "# convert pandas Series into list \n",
    "seq=data[\"seq\"].tolist()\n",
    "mylist=[]\n",
    "for item in seq:\n",
    "    mylist.append(list(item))  \n",
    "    \n",
    "newlist=[]\n",
    "label_encoder = LabelEncoder()\n",
    "label_encoder.fit(np.array(['A','C','G','T']))\n",
    "\n",
    "for seq in mylist:\n",
    "    seq_array=np.array(seq)\n",
    "    integer_encoded=label_encoder.transform(seq_array)\n",
    "    onehot_encoded = to_categorical(integer_encoded)\n",
    "    # np.pad with zeros sequences with length less than maxlen characters - padding='pre' or left padding\n",
    "    onehot_encoded=np.pad(onehot_encoded, ((maxlen-onehot_encoded.shape[0],0),(0,0)), 'constant')\n",
    "    newlist.append(onehot_encoded)\n",
    "\n",
    "my_array=np.array(newlist) \n",
    "print(\"last 10 characters os the first sequence: \", data.seq[0][-10:])\n",
    "# verify one-hot encoding of the first and last 10 characters of the first sequence\n",
    "print(\"one-hot encoded version of first 10 characters\\n\",my_array[0][0:10])\n",
    "print(\"one-hot encoded version of last 10 characters\\n\",my_array[0][-10:])\n",
    "print(\"training data array shape: \", my_array.shape)"
   ]
  },
  {
   "cell_type": "code",
   "execution_count": 31,
   "metadata": {},
   "outputs": [],
   "source": [
    "# write a .h5 file with one-hot encoded sequence data\n",
    "import h5py\n",
    "h5f = h5py.File('seq_data_4000_PRE.h5', 'w')\n",
    "h5f.create_dataset('seq_data_4000_PRE', data=my_array)\n",
    "h5f.close()"
   ]
  },
  {
   "cell_type": "code",
   "execution_count": 32,
   "metadata": {},
   "outputs": [
    {
     "data": {
      "text/plain": [
       "array([[1., 0., 0., 0.],\n",
       "       [1., 0., 0., 0.],\n",
       "       [0., 0., 0., 1.],\n",
       "       [1., 0., 0., 0.],\n",
       "       [0., 1., 0., 0.],\n",
       "       [1., 0., 0., 0.],\n",
       "       [1., 0., 0., 0.],\n",
       "       [0., 0., 1., 0.],\n",
       "       [0., 0., 1., 0.],\n",
       "       [0., 0., 0., 1.]], dtype=float32)"
      ]
     },
     "execution_count": 32,
     "metadata": {},
     "output_type": "execute_result"
    }
   ],
   "source": [
    "# read in .h5 file to check \n",
    "with h5py.File('seq_data_4000_PRE.h5', 'r') as hf:\n",
    "    data = hf['seq_data_4000_PRE'][:]\n",
    "    h5f.close()\n",
    "data[0][-10:]"
   ]
  },
  {
   "cell_type": "code",
   "execution_count": 16,
   "metadata": {},
   "outputs": [
    {
     "ename": "NameError",
     "evalue": "name 'labelsdf' is not defined",
     "output_type": "error",
     "traceback": [
      "\u001b[0;31m---------------------------------------------------------------------------\u001b[0m",
      "\u001b[0;31mNameError\u001b[0m                                 Traceback (most recent call last)",
      "\u001b[0;32m<ipython-input-16-acb819114192>\u001b[0m in \u001b[0;36m<module>\u001b[0;34m\u001b[0m\n\u001b[1;32m      1\u001b[0m \u001b[0;31m#convert labels dataframe to numpy array\u001b[0m\u001b[0;34m\u001b[0m\u001b[0;34m\u001b[0m\u001b[0;34m\u001b[0m\u001b[0m\n\u001b[0;32m----> 2\u001b[0;31m \u001b[0mlabels\u001b[0m \u001b[0;34m=\u001b[0m \u001b[0mlabelsdf\u001b[0m\u001b[0;34m.\u001b[0m\u001b[0mto_numpy\u001b[0m\u001b[0;34m(\u001b[0m\u001b[0;34m)\u001b[0m\u001b[0;34m\u001b[0m\u001b[0;34m\u001b[0m\u001b[0m\n\u001b[0m\u001b[1;32m      3\u001b[0m \u001b[0;34m\u001b[0m\u001b[0m\n\u001b[1;32m      4\u001b[0m \u001b[0;31m# write labels.h5 file\u001b[0m\u001b[0;34m\u001b[0m\u001b[0;34m\u001b[0m\u001b[0;34m\u001b[0m\u001b[0m\n\u001b[1;32m      5\u001b[0m \u001b[0mh5l\u001b[0m \u001b[0;34m=\u001b[0m \u001b[0mh5py\u001b[0m\u001b[0;34m.\u001b[0m\u001b[0mFile\u001b[0m\u001b[0;34m(\u001b[0m\u001b[0;34m'label_data.h5'\u001b[0m\u001b[0;34m,\u001b[0m \u001b[0;34m'w'\u001b[0m\u001b[0;34m)\u001b[0m\u001b[0;34m\u001b[0m\u001b[0;34m\u001b[0m\u001b[0m\n",
      "\u001b[0;31mNameError\u001b[0m: name 'labelsdf' is not defined"
     ]
    }
   ],
   "source": [
    "#convert labels dataframe to numpy array \n",
    "labels = labelsdf.to_numpy()\n",
    "\n",
    "# write labels.h5 file \n",
    "h5l = h5py.File('label_data.h5', 'w')\n",
    "h5l.create_dataset('label_data', data=labels)\n",
    "h5l.close()"
   ]
  },
  {
   "cell_type": "code",
   "execution_count": null,
   "metadata": {},
   "outputs": [],
   "source": []
  }
 ],
 "metadata": {
  "kernelspec": {
   "display_name": "Python 3",
   "language": "python",
   "name": "python3"
  },
  "language_info": {
   "codemirror_mode": {
    "name": "ipython",
    "version": 3
   },
   "file_extension": ".py",
   "mimetype": "text/x-python",
   "name": "python",
   "nbconvert_exporter": "python",
   "pygments_lexer": "ipython3",
   "version": "3.6.8"
  }
 },
 "nbformat": 4,
 "nbformat_minor": 2
}
